{
  "nbformat": 4,
  "nbformat_minor": 0,
  "metadata": {
    "kernelspec": {
      "language": "python",
      "display_name": "Python 3",
      "name": "python3"
    },
    "language_info": {
      "name": "python",
      "version": "3.7.10",
      "mimetype": "text/x-python",
      "codemirror_mode": {
        "name": "ipython",
        "version": 3
      },
      "pygments_lexer": "ipython3",
      "nbconvert_exporter": "python",
      "file_extension": ".py"
    },
    "colab": {
      "name": "notebookf63e96a2c8.ipynb",
      "provenance": [],
      "include_colab_link": true
    }
  },
  "cells": [
    {
      "cell_type": "markdown",
      "metadata": {
        "id": "view-in-github",
        "colab_type": "text"
      },
      "source": [
        "<a href=\"https://colab.research.google.com/github/AlessandroMessori/ANN_Challenge_1/blob/main/notebook%20aggiornato.ipynb\" target=\"_parent\"><img src=\"https://colab.research.google.com/assets/colab-badge.svg\" alt=\"Open In Colab\"/></a>"
      ]
    },
    {
      "cell_type": "code",
      "metadata": {
        "execution": {
          "iopub.status.busy": "2021-11-14T17:02:04.331926Z",
          "iopub.execute_input": "2021-11-14T17:02:04.332219Z",
          "iopub.status.idle": "2021-11-14T17:02:04.336517Z",
          "shell.execute_reply.started": "2021-11-14T17:02:04.332189Z",
          "shell.execute_reply": "2021-11-14T17:02:04.335805Z"
        },
        "id": "cJfrD0ZSegEi",
        "trusted": true
      },
      "source": [
        "import numpy as np\n",
        "import tensorflow as tf"
      ],
      "execution_count": null,
      "outputs": []
    },
    {
      "cell_type": "code",
      "metadata": {
        "id": "cfUHG_HKegEp",
        "execution": {
          "iopub.status.busy": "2021-11-14T18:47:35.203552Z",
          "iopub.execute_input": "2021-11-14T18:47:35.203878Z",
          "iopub.status.idle": "2021-11-14T18:47:36.012648Z",
          "shell.execute_reply.started": "2021-11-14T18:47:35.203846Z",
          "shell.execute_reply": "2021-11-14T18:47:36.011544Z"
        },
        "trusted": true
      },
      "source": [
        "!ls"
      ],
      "execution_count": null,
      "outputs": []
    }
  ]
}