{
  "nbformat": 4,
  "nbformat_minor": 0,
  "metadata": {
    "kernelspec": {
      "language": "python",
      "display_name": "Python 3",
      "name": "python3"
    },
    "language_info": {
      "pygments_lexer": "ipython3",
      "nbconvert_exporter": "python",
      "version": "3.6.4",
      "file_extension": ".py",
      "codemirror_mode": {
        "name": "ipython",
        "version": 3
      },
      "name": "python",
      "mimetype": "text/x-python"
    },
    "colab": {
      "name": "test2.ipynb",
      "provenance": []
    }
  },
  "cells": [
    {
      "cell_type": "code",
      "metadata": {
        "execution": {
          "iopub.status.busy": "2021-11-14T17:02:04.331926Z",
          "iopub.execute_input": "2021-11-14T17:02:04.332219Z",
          "iopub.status.idle": "2021-11-14T17:02:04.336517Z",
          "shell.execute_reply.started": "2021-11-14T17:02:04.332189Z",
          "shell.execute_reply": "2021-11-14T17:02:04.335805Z"
        },
        "jupyter": {
          "source_hidden": true
        },
        "trusted": true,
        "id": "cJfrD0ZSegEi"
      },
      "source": [
        "import numpy as np"
      ],
      "execution_count": null,
      "outputs": []
    },
    {
      "cell_type": "code",
      "metadata": {
        "execution": {
          "iopub.status.busy": "2021-11-14T17:20:33.023527Z",
          "iopub.execute_input": "2021-11-14T17:20:33.023951Z",
          "iopub.status.idle": "2021-11-14T17:20:33.056049Z",
          "shell.execute_reply.started": "2021-11-14T17:20:33.023847Z",
          "shell.execute_reply": "2021-11-14T17:20:33.055116Z"
        },
        "trusted": true,
        "id": "cfUHG_HKegEp",
        "outputId": "45b73f29-3621-4a3d-cfb4-22c884328584",
        "colab": {
          "base_uri": "https://localhost:8080/"
        }
      },
      "source": [
        "print(\"Hello World from Colab\")"
      ],
      "execution_count": 1,
      "outputs": [
        {
          "output_type": "stream",
          "name": "stdout",
          "text": [
            "Hello World from Colab\n"
          ]
        }
      ]
    },
    {
      "cell_type": "code",
      "metadata": {
        "id": "738RqfL7egEq"
      },
      "source": [
        ""
      ],
      "execution_count": null,
      "outputs": []
    }
  ]
}