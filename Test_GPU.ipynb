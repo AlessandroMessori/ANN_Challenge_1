{
  "nbformat": 4,
  "nbformat_minor": 0,
  "metadata": {
    "colab": {
      "name": "Test_GPU.ipynb",
      "provenance": [],
      "mount_file_id": "1PlCytw23lmYI_jI3dTf2AcbL-Uwcc6AY",
      "authorship_tag": "ABX9TyNCT0MkgiNPIIglaCrtIUx7",
      "include_colab_link": true
    },
    "kernelspec": {
      "name": "python3",
      "display_name": "Python 3"
    },
    "language_info": {
      "name": "python"
    }
  },
  "cells": [
    {
      "cell_type": "markdown",
      "metadata": {
        "id": "view-in-github",
        "colab_type": "text"
      },
      "source": [
        "<a href=\"https://colab.research.google.com/github/AlessandroMessori/ANN_Challenge_1/blob/main/Test_GPU.ipynb\" target=\"_parent\"><img src=\"https://colab.research.google.com/assets/colab-badge.svg\" alt=\"Open In Colab\"/></a>"
      ]
    },
    {
      "cell_type": "markdown",
      "metadata": {
        "id": "NJJ6zgRDSb--"
      },
      "source": [
        "GOOGLE DRIVE ACCESS"
      ]
    },
    {
      "cell_type": "code",
      "metadata": {
        "colab": {
          "base_uri": "https://localhost:8080/"
        },
        "id": "7_4OIxgHNQrD",
        "outputId": "288b3040-aedb-493f-bc1e-3efde6613409"
      },
      "source": [
        "from google.colab import drive\n",
        "drive.mount('/drive')"
      ],
      "execution_count": 4,
      "outputs": [
        {
          "output_type": "stream",
          "name": "stdout",
          "text": [
            "Drive already mounted at /drive; to attempt to forcibly remount, call drive.mount(\"/drive\", force_remount=True).\n"
          ]
        }
      ]
    },
    {
      "cell_type": "markdown",
      "metadata": {
        "id": "_f_vVYsDSWD5"
      },
      "source": [
        "IMPORT DATASET FROM GOOGLE DRIVE"
      ]
    },
    {
      "cell_type": "code",
      "metadata": {
        "id": "gEjyPkNQOb1l"
      },
      "source": [
        "!unzip /drive/MyDrive/\"Colab Notebooks\"/dataset.zip"
      ],
      "execution_count": null,
      "outputs": []
    },
    {
      "cell_type": "code",
      "metadata": {
        "colab": {
          "base_uri": "https://localhost:8080/"
        },
        "id": "_FnFla4AJ6wx",
        "outputId": "f48d4273-93d0-4a8b-f84e-43074d2bbc9c"
      },
      "source": [
        "import os \n",
        "\n",
        "os.listdir(\"/drive/MyDrive/Colab Notebooks\")"
      ],
      "execution_count": 22,
      "outputs": [
        {
          "output_type": "execute_result",
          "data": {
            "text/plain": [
              "['dataset.zip', 'Test_.ipynb', '16734.jpg']"
            ]
          },
          "metadata": {},
          "execution_count": 22
        }
      ]
    },
    {
      "cell_type": "code",
      "metadata": {
        "colab": {
          "base_uri": "https://localhost:8080/"
        },
        "id": "0R0fRV_NM5jZ",
        "outputId": "cce5f0ab-db81-45fb-ed32-168d18c95860"
      },
      "source": [
        "from PIL import Image\n",
        "# Open the image form working directory\n",
        "image = Image.open(\"/drive/MyDrive/Colab Notebooks/16734.jpg\")\n",
        "# summarize some details about the image\n",
        "print(image.format)\n",
        "print(image.size)\n",
        "print(image.mode)\n",
        "# show the image"
      ],
      "execution_count": 24,
      "outputs": [
        {
          "output_type": "stream",
          "name": "stdout",
          "text": [
            "JPEG\n",
            "(3000, 1987)\n",
            "RGB\n"
          ]
        }
      ]
    },
    {
      "cell_type": "markdown",
      "metadata": {
        "id": "WNrtwd_2Q-_e"
      },
      "source": [
        "TEST GPU"
      ]
    },
    {
      "cell_type": "code",
      "metadata": {
        "colab": {
          "base_uri": "https://localhost:8080/"
        },
        "id": "H6HR079WQ-o5",
        "outputId": "7e65fe96-f2a0-44af-f37d-7c72a8503f86"
      },
      "source": [
        "import tensorflow as tf\n",
        "device_name = tf.test.gpu_device_name()\n",
        "if device_name != '/device:GPU:0':\n",
        "  raise SystemError('GPU device not found')\n",
        "print('Found GPU at: {}'.format(device_name))"
      ],
      "execution_count": 1,
      "outputs": [
        {
          "output_type": "stream",
          "name": "stdout",
          "text": [
            "Found GPU at: /device:GPU:0\n"
          ]
        }
      ]
    }
  ]
}