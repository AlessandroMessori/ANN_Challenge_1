{
  "nbformat": 4,
  "nbformat_minor": 0,
  "metadata": {
    "colab": {
      "name": "Basic_Model.ipynb",
      "provenance": [],
      "collapsed_sections": [],
      "mount_file_id": "1RclijaNMJ9OWLW_hD6Z8sv9CY0aCqaAp",
      "authorship_tag": "ABX9TyN4xLWqbbOl/vEFr9SHCcV3",
      "include_colab_link": true
    },
    "kernelspec": {
      "name": "python3",
      "display_name": "Python 3"
    },
    "language_info": {
      "name": "python"
    },
    "accelerator": "GPU"
  },
  "cells": [
    {
      "cell_type": "markdown",
      "metadata": {
        "id": "view-in-github",
        "colab_type": "text"
      },
      "source": [
        "<a href=\"https://colab.research.google.com/github/AlessandroMessori/ANN_Challenge_1/blob/main/Basic_Model.ipynb\" target=\"_parent\"><img src=\"https://colab.research.google.com/assets/colab-badge.svg\" alt=\"Open In Colab\"/></a>"
      ]
    },
    {
      "cell_type": "markdown",
      "metadata": {
        "id": "NJJ6zgRDSb--"
      },
      "source": [
        "GOOGLE DRIVE ACCESS"
      ]
    },
    {
      "cell_type": "code",
      "metadata": {
        "colab": {
          "base_uri": "https://localhost:8080/"
        },
        "id": "7_4OIxgHNQrD",
        "outputId": "ae8a268f-c830-4b8f-f222-5620e2879367"
      },
      "source": [
        "from google.colab import drive\n",
        "drive.mount('/drive')"
      ],
      "execution_count": 1,
      "outputs": [
        {
          "output_type": "stream",
          "name": "stdout",
          "text": [
            "Mounted at /drive\n"
          ]
        }
      ]
    },
    {
      "cell_type": "code",
      "metadata": {
        "id": "_FnFla4AJ6wx",
        "colab": {
          "base_uri": "https://localhost:8080/"
        },
        "outputId": "5f0b0553-9b55-479e-d852-765b2b034671"
      },
      "source": [
        "import os \n",
        "\n",
        "os.listdir(INPUT_PATH + \"/dataset.zip (Unzipped Files)/training\")"
      ],
      "execution_count": 5,
      "outputs": [
        {
          "output_type": "execute_result",
          "data": {
            "text/plain": [
              "['Blueberry',\n",
              " 'Apple',\n",
              " 'Corn',\n",
              " 'Cherry',\n",
              " 'Grape',\n",
              " 'Orange',\n",
              " 'Peach',\n",
              " 'Pepper',\n",
              " 'Potato',\n",
              " 'Raspberry',\n",
              " 'Soybean',\n",
              " 'Squash',\n",
              " 'Strawberry',\n",
              " 'Tomato']"
            ]
          },
          "metadata": {},
          "execution_count": 5
        }
      ]
    },
    {
      "cell_type": "code",
      "metadata": {
        "colab": {
          "base_uri": "https://localhost:8080/"
        },
        "id": "6Lu2rzSmqsFF",
        "outputId": "863c5526-8a18-435a-e812-bba360315fdf"
      },
      "source": [
        "import tensorflow as tf\n",
        "import numpy as np\n",
        "import os\n",
        "import random\n",
        "import pandas as pd\n",
        "import seaborn as sns\n",
        "import matplotlib as mpl\n",
        "import matplotlib.pyplot as plt\n",
        "from tensorflow.keras.preprocessing.image import ImageDataGenerator\n",
        "import tensorflow_datasets as tfds\n",
        "from sklearn.model_selection import train_test_split, KFold\n",
        "from sklearn.metrics import accuracy_score, f1_score, precision_score, recall_score\n",
        "from sklearn.metrics import confusion_matrix\n",
        "\n",
        "\n",
        "tfk = tf.keras\n",
        "tfkl = tf.keras.layers\n",
        "print(tf.__version__)\n"
      ],
      "execution_count": 3,
      "outputs": [
        {
          "output_type": "stream",
          "name": "stdout",
          "text": [
            "2.7.0\n"
          ]
        }
      ]
    },
    {
      "cell_type": "markdown",
      "metadata": {
        "id": "GsYDaJVtocrW"
      },
      "source": [
        "## GLOBAL VARIABLES"
      ]
    },
    {
      "cell_type": "code",
      "metadata": {
        "id": "TqBhvtOPobwG"
      },
      "source": [
        "INPUT_PATH = \"/drive/MyDrive/Colab Notebooks\"\n",
        "IMG_HEIGHT = 256\n",
        "IMG_WIDTH = 256\n",
        "BATCH_SIZE = 100\n",
        "SEED = 123\n",
        "\n",
        "EPOCHS = 20\n",
        "NUM_FOLDS = 10\n",
        "INPUT_SHAPE = (256,256, 3)"
      ],
      "execution_count": 4,
      "outputs": []
    },
    {
      "cell_type": "code",
      "metadata": {
        "colab": {
          "base_uri": "https://localhost:8080/"
        },
        "id": "6jQJ57fOqmoW",
        "outputId": "bf32e728-46de-4055-957d-a49128de71dc"
      },
      "source": [
        "train_ds = tf.keras.utils.image_dataset_from_directory(\n",
        "  INPUT_PATH + \"/dataset.zip (Unzipped Files)/training\",\n",
        "  validation_split=0.2,\n",
        "  subset=\"training\",\n",
        "  seed=SEED,\n",
        "  image_size=(IMG_HEIGHT, IMG_WIDTH),\n",
        "  batch_size=BATCH_SIZE)\n",
        "\n",
        "val_ds = tf.keras.utils.image_dataset_from_directory(\n",
        "  INPUT_PATH + \"/dataset.zip (Unzipped Files)/training\",\n",
        "  validation_split=0.2,\n",
        "  subset=\"validation\",\n",
        "  seed=SEED,\n",
        "  image_size=(IMG_HEIGHT, IMG_WIDTH),\n",
        "  batch_size=BATCH_SIZE)"
      ],
      "execution_count": 6,
      "outputs": [
        {
          "output_type": "stream",
          "name": "stdout",
          "text": [
            "Found 17728 files belonging to 14 classes.\n",
            "Using 14183 files for training.\n",
            "Found 17728 files belonging to 14 classes.\n",
            "Using 3545 files for validation.\n"
          ]
        }
      ]
    },
    {
      "cell_type": "code",
      "metadata": {
        "id": "PkccDbv-bzKr"
      },
      "source": [
        "def build_model(input_shape):\n",
        "\n",
        "    # Build the neural network layer by layer\n",
        "    input_layer = tfkl.Input(shape=input_shape, name='Input')\n",
        "\n",
        "    conv1 = tfkl.Conv2D(\n",
        "        filters=16,\n",
        "        kernel_size=(3, 3),\n",
        "        strides = (1, 1),\n",
        "        padding = 'same',\n",
        "        activation = 'relu',\n",
        "        kernel_initializer = tfk.initializers.GlorotUniform(SEED)\n",
        "    )(input_layer)\n",
        "\n",
        "    pool1 = tfkl.MaxPooling2D(\n",
        "        pool_size = (2, 2)\n",
        "    )(conv1)\n",
        "\n",
        "    conv2 = tfkl.Conv2D(\n",
        "        filters=32,\n",
        "        kernel_size=(3, 3),\n",
        "        strides = (1, 1),\n",
        "        padding = 'same',\n",
        "        activation = 'relu',\n",
        "        kernel_initializer = tfk.initializers.GlorotUniform(SEED)\n",
        "    )(pool1)\n",
        "\n",
        "    pool2 = tfkl.MaxPooling2D(\n",
        "        pool_size = (2, 2)\n",
        "    )(conv2)\n",
        "\n",
        "    conv3 = tfkl.Conv2D(\n",
        "        filters=64,\n",
        "        kernel_size=(3, 3),\n",
        "        strides = (1, 1),\n",
        "        padding = 'same',\n",
        "        activation = 'relu',\n",
        "        kernel_initializer = tfk.initializers.GlorotUniform(SEED)\n",
        "    )(pool2)\n",
        "\n",
        "    pool3 = tfkl.MaxPooling2D(\n",
        "        pool_size = (2, 2)\n",
        "    )(conv3)\n",
        "\n",
        "    flattening_layer = tfkl.Flatten(name='Flatten')(pool3)\n",
        "    \n",
        "    flattening_layer = tfkl.Dropout(0.3, seed=SEED)(flattening_layer)\n",
        "\n",
        "    classifier_layer = tfkl.Dense(units=128, name='Classifier', activation='relu')(flattening_layer)\n",
        "\n",
        "    classifier_layer = tfkl.Dropout(0.3, seed=SEED)(classifier_layer)\n",
        "    \n",
        "    output_layer = tfkl.Dense(units=14, activation='softmax', name='Output')(classifier_layer)\n",
        "\n",
        "    # Connect input and output through the Model class\n",
        "    model = tfk.Model(inputs=input_layer, outputs=output_layer, name='model')\n",
        "\n",
        "    # Compile the model\n",
        "    model.compile(optimizer='adam',\n",
        "              loss=tf.keras.losses.CategoricalCrossentropy(),\n",
        "              metrics=['accuracy'])\n",
        "    # Return the model\n",
        "    return model"
      ],
      "execution_count": 7,
      "outputs": []
    },
    {
      "cell_type": "code",
      "metadata": {
        "colab": {
          "base_uri": "https://localhost:8080/",
          "height": 1000
        },
        "id": "c1sTikOOu3kZ",
        "outputId": "f8464efa-890a-47c3-a05b-ff878cfb78ef"
      },
      "source": [
        "images_dir = INPUT_PATH + \"/dataset.zip (Unzipped Files)/training\"\n",
        "\n",
        "VALIDATION_ACCURACY = []\n",
        "VALIDAITON_LOSS = []\n",
        "\n",
        "save_dir = '/saved_models/'\n",
        "fold_var = 1\n",
        "\n",
        "kf = KFold(n_splits = 10)\n",
        "\n",
        "idg = ImageDataGenerator(rescale=1./255,\n",
        "    shear_range=0.2,\n",
        "    zoom_range=0.2,\n",
        "    horizontal_flip=True,\n",
        "    validation_split=0.2) # set validation split\n",
        "\n",
        "with tf.device('/device:GPU:0'):\n",
        "\t\n",
        "  train_data_generator = idg.flow_from_directory(\n",
        "                  directory=images_dir, target_size=(IMG_WIDTH, IMG_HEIGHT),\n",
        "                  batch_size=BATCH_SIZE, seed=SEED, subset=\"training\")\n",
        "  \n",
        "  valid_data_generator = idg.flow_from_directory(\n",
        "                  directory=images_dir, target_size=(IMG_WIDTH, IMG_HEIGHT), \n",
        "                  batch_size=BATCH_SIZE, seed=SEED, subset=\"validation\")\n",
        "  \n",
        "  #train_data_generator = tf.image.resize(train_data_generator, (64, 64))\n",
        "  #valid_data_generator = tf.image.resize(valid_data_generator, (64, 64))\n",
        "\t\n",
        "\t# CREATE NEW MODEL\n",
        "  model = build_model(INPUT_SHAPE)\n",
        "\t\n",
        "\t# CREATE CALLBACKS\n",
        "  checkpoint = tf.keras.callbacks.ModelCheckpoint(save_dir+str(0), \n",
        "\t\t\t\t\t\t\tmonitor='val_accuracy', verbose=1, \n",
        "\t\t\t\t\t\t\tsave_best_only=True, mode='max')\n",
        " \n",
        "  callbacks_list = [checkpoint]\n",
        "\t# There can be other callbacks, but just showing one because it involves the model name\n",
        "\t# This saves the best model\n",
        "\t# FIT THE MODEL\n",
        "  history = model.fit(train_data_generator,\n",
        "\t\t\t    epochs=EPOCHS,\n",
        "\t\t\t    callbacks=callbacks_list,\n",
        "\t\t\t    validation_data=valid_data_generator)\n",
        "\t#PLOT HISTORY\n",
        "\t#\t\t:\n",
        "\t#\t\t:\n",
        "\t\n",
        "\t# LOAD BEST MODEL to evaluate the performance of the model\n",
        "  model.load_weights(\"/saved_models/model_\"+str(fold_var)+\".h5\")\n",
        "\t\n",
        "  results = model.evaluate(valid_data_generator)\n",
        "  results = dict(zip(model.metrics_names,results))\n",
        "\t\n",
        "  VALIDATION_ACCURACY.append(results['accuracy'])\n",
        "  VALIDATION_LOSS.append(results['loss'])\n",
        "\t\n",
        "  tf.keras.backend.clear_session()\n",
        "\t\n",
        "  fold_var += 1\n",
        "\t"
      ],
      "execution_count": 8,
      "outputs": [
        {
          "output_type": "stream",
          "name": "stdout",
          "text": [
            "Found 14189 images belonging to 14 classes.\n",
            "Found 3539 images belonging to 14 classes.\n",
            "Epoch 1/20\n",
            "142/142 [==============================] - ETA: 0s - loss: 1.4405 - accuracy: 0.5620 \n",
            "Epoch 00001: val_accuracy improved from -inf to 0.68663, saving model to /saved_models/0\n"
          ]
        },
        {
          "output_type": "stream",
          "name": "stderr",
          "text": [
            "WARNING:absl:Function `_wrapped_model` contains input name(s) Input with unsupported characters which will be renamed to input in the SavedModel.\n"
          ]
        },
        {
          "output_type": "stream",
          "name": "stdout",
          "text": [
            "INFO:tensorflow:Assets written to: /saved_models/0/assets\n"
          ]
        },
        {
          "output_type": "stream",
          "name": "stderr",
          "text": [
            "INFO:tensorflow:Assets written to: /saved_models/0/assets\n"
          ]
        },
        {
          "output_type": "stream",
          "name": "stdout",
          "text": [
            "\b\b\b\b\b\b\b\b\b\b\b\b\b\b\b\b\b\b\b\b\b\b\b\b\b\b\b\b\b\b\b\b\b\b\b\b\b\b\b\b\b\b\b\b\b\b\b\b\b\b\b\b\b\b\b\b\b\b\b\b\b\b\b\b\b\b\b\b\b\b\b\b\b\b\b\b\b\b\b\b\b\b\b\b\r142/142 [==============================] - 2904s 20s/step - loss: 1.4405 - accuracy: 0.5620 - val_loss: 1.1034 - val_accuracy: 0.6866\n",
            "Epoch 2/20\n",
            "142/142 [==============================] - ETA: 0s - loss: 0.8112 - accuracy: 0.7441\n",
            "Epoch 00002: val_accuracy improved from 0.68663 to 0.76632, saving model to /saved_models/0\n"
          ]
        },
        {
          "output_type": "stream",
          "name": "stderr",
          "text": [
            "WARNING:absl:Function `_wrapped_model` contains input name(s) Input with unsupported characters which will be renamed to input in the SavedModel.\n"
          ]
        },
        {
          "output_type": "stream",
          "name": "stdout",
          "text": [
            "INFO:tensorflow:Assets written to: /saved_models/0/assets\n"
          ]
        },
        {
          "output_type": "stream",
          "name": "stderr",
          "text": [
            "INFO:tensorflow:Assets written to: /saved_models/0/assets\n"
          ]
        },
        {
          "output_type": "stream",
          "name": "stdout",
          "text": [
            "\b\b\b\b\b\b\b\b\b\b\b\b\b\b\b\b\b\b\b\b\b\b\b\b\b\b\b\b\b\b\b\b\b\b\b\b\b\b\b\b\b\b\b\b\b\b\b\b\b\b\b\b\b\b\b\b\b\b\b\b\b\b\b\b\b\b\b\b\b\b\b\b\b\b\b\b\b\b\b\b\b\b\b\b\r142/142 [==============================] - 301s 2s/step - loss: 0.8112 - accuracy: 0.7441 - val_loss: 0.8410 - val_accuracy: 0.7663\n",
            "Epoch 3/20\n",
            "142/142 [==============================] - ETA: 0s - loss: 0.6289 - accuracy: 0.8023\n",
            "Epoch 00003: val_accuracy improved from 0.76632 to 0.79231, saving model to /saved_models/0\n"
          ]
        },
        {
          "output_type": "stream",
          "name": "stderr",
          "text": [
            "WARNING:absl:Function `_wrapped_model` contains input name(s) Input with unsupported characters which will be renamed to input in the SavedModel.\n"
          ]
        },
        {
          "output_type": "stream",
          "name": "stdout",
          "text": [
            "INFO:tensorflow:Assets written to: /saved_models/0/assets\n"
          ]
        },
        {
          "output_type": "stream",
          "name": "stderr",
          "text": [
            "INFO:tensorflow:Assets written to: /saved_models/0/assets\n"
          ]
        },
        {
          "output_type": "stream",
          "name": "stdout",
          "text": [
            "\b\b\b\b\b\b\b\b\b\b\b\b\b\b\b\b\b\b\b\b\b\b\b\b\b\b\b\b\b\b\b\b\b\b\b\b\b\b\b\b\b\b\b\b\b\b\b\b\b\b\b\b\b\b\b\b\b\b\b\b\b\b\b\b\b\b\b\b\b\b\b\b\b\b\b\b\b\b\b\b\b\b\b\b\r142/142 [==============================] - 305s 2s/step - loss: 0.6289 - accuracy: 0.8023 - val_loss: 0.6728 - val_accuracy: 0.7923\n",
            "Epoch 4/20\n",
            "142/142 [==============================] - ETA: 0s - loss: 0.5074 - accuracy: 0.8365\n",
            "Epoch 00004: val_accuracy improved from 0.79231 to 0.81803, saving model to /saved_models/0\n"
          ]
        },
        {
          "output_type": "stream",
          "name": "stderr",
          "text": [
            "WARNING:absl:Function `_wrapped_model` contains input name(s) Input with unsupported characters which will be renamed to input in the SavedModel.\n"
          ]
        },
        {
          "output_type": "stream",
          "name": "stdout",
          "text": [
            "INFO:tensorflow:Assets written to: /saved_models/0/assets\n"
          ]
        },
        {
          "output_type": "stream",
          "name": "stderr",
          "text": [
            "INFO:tensorflow:Assets written to: /saved_models/0/assets\n"
          ]
        },
        {
          "output_type": "stream",
          "name": "stdout",
          "text": [
            "\b\b\b\b\b\b\b\b\b\b\b\b\b\b\b\b\b\b\b\b\b\b\b\b\b\b\b\b\b\b\b\b\b\b\b\b\b\b\b\b\b\b\b\b\b\b\b\b\b\b\b\b\b\b\b\b\b\b\b\b\b\b\b\b\b\b\b\b\b\b\b\b\b\b\b\b\b\b\b\b\b\b\b\b\r142/142 [==============================] - 304s 2s/step - loss: 0.5074 - accuracy: 0.8365 - val_loss: 0.6143 - val_accuracy: 0.8180\n",
            "Epoch 5/20\n",
            "142/142 [==============================] - ETA: 0s - loss: 0.4272 - accuracy: 0.8622\n",
            "Epoch 00005: val_accuracy improved from 0.81803 to 0.82990, saving model to /saved_models/0\n"
          ]
        },
        {
          "output_type": "stream",
          "name": "stderr",
          "text": [
            "WARNING:absl:Function `_wrapped_model` contains input name(s) Input with unsupported characters which will be renamed to input in the SavedModel.\n"
          ]
        },
        {
          "output_type": "stream",
          "name": "stdout",
          "text": [
            "INFO:tensorflow:Assets written to: /saved_models/0/assets\n"
          ]
        },
        {
          "output_type": "stream",
          "name": "stderr",
          "text": [
            "INFO:tensorflow:Assets written to: /saved_models/0/assets\n"
          ]
        },
        {
          "output_type": "stream",
          "name": "stdout",
          "text": [
            "\b\b\b\b\b\b\b\b\b\b\b\b\b\b\b\b\b\b\b\b\b\b\b\b\b\b\b\b\b\b\b\b\b\b\b\b\b\b\b\b\b\b\b\b\b\b\b\b\b\b\b\b\b\b\b\b\b\b\b\b\b\b\b\b\b\b\b\b\b\b\b\b\b\b\b\b\b\b\b\b\b\b\b\b\r142/142 [==============================] - 294s 2s/step - loss: 0.4272 - accuracy: 0.8622 - val_loss: 0.6008 - val_accuracy: 0.8299\n",
            "Epoch 6/20\n",
            "142/142 [==============================] - ETA: 0s - loss: 0.3714 - accuracy: 0.8831\n",
            "Epoch 00006: val_accuracy improved from 0.82990 to 0.85307, saving model to /saved_models/0\n"
          ]
        },
        {
          "output_type": "stream",
          "name": "stderr",
          "text": [
            "WARNING:absl:Function `_wrapped_model` contains input name(s) Input with unsupported characters which will be renamed to input in the SavedModel.\n"
          ]
        },
        {
          "output_type": "stream",
          "name": "stdout",
          "text": [
            "INFO:tensorflow:Assets written to: /saved_models/0/assets\n"
          ]
        },
        {
          "output_type": "stream",
          "name": "stderr",
          "text": [
            "INFO:tensorflow:Assets written to: /saved_models/0/assets\n"
          ]
        },
        {
          "output_type": "stream",
          "name": "stdout",
          "text": [
            "\b\b\b\b\b\b\b\b\b\b\b\b\b\b\b\b\b\b\b\b\b\b\b\b\b\b\b\b\b\b\b\b\b\b\b\b\b\b\b\b\b\b\b\b\b\b\b\b\b\b\b\b\b\b\b\b\b\b\b\b\b\b\b\b\b\b\b\b\b\b\b\b\b\b\b\b\b\b\b\b\b\b\b\b\r142/142 [==============================] - 299s 2s/step - loss: 0.3714 - accuracy: 0.8831 - val_loss: 0.5055 - val_accuracy: 0.8531\n",
            "Epoch 7/20\n",
            "142/142 [==============================] - ETA: 0s - loss: 0.3270 - accuracy: 0.8977\n",
            "Epoch 00007: val_accuracy did not improve from 0.85307\n",
            "142/142 [==============================] - 284s 2s/step - loss: 0.3270 - accuracy: 0.8977 - val_loss: 0.5985 - val_accuracy: 0.8305\n",
            "Epoch 8/20\n",
            "142/142 [==============================] - ETA: 0s - loss: 0.3007 - accuracy: 0.9035\n",
            "Epoch 00008: val_accuracy improved from 0.85307 to 0.86974, saving model to /saved_models/0\n"
          ]
        },
        {
          "output_type": "stream",
          "name": "stderr",
          "text": [
            "WARNING:absl:Function `_wrapped_model` contains input name(s) Input with unsupported characters which will be renamed to input in the SavedModel.\n"
          ]
        },
        {
          "output_type": "stream",
          "name": "stdout",
          "text": [
            "INFO:tensorflow:Assets written to: /saved_models/0/assets\n"
          ]
        },
        {
          "output_type": "stream",
          "name": "stderr",
          "text": [
            "INFO:tensorflow:Assets written to: /saved_models/0/assets\n"
          ]
        },
        {
          "output_type": "stream",
          "name": "stdout",
          "text": [
            "\b\b\b\b\b\b\b\b\b\b\b\b\b\b\b\b\b\b\b\b\b\b\b\b\b\b\b\b\b\b\b\b\b\b\b\b\b\b\b\b\b\b\b\b\b\b\b\b\b\b\b\b\b\b\b\b\b\b\b\b\b\b\b\b\b\b\b\b\b\b\b\b\b\b\b\b\b\b\b\b\b\b\b\b\r142/142 [==============================] - 288s 2s/step - loss: 0.3007 - accuracy: 0.9035 - val_loss: 0.4214 - val_accuracy: 0.8697\n",
            "Epoch 9/20\n",
            "142/142 [==============================] - ETA: 0s - loss: 0.2604 - accuracy: 0.9132\n",
            "Epoch 00009: val_accuracy improved from 0.86974 to 0.89743, saving model to /saved_models/0\n"
          ]
        },
        {
          "output_type": "stream",
          "name": "stderr",
          "text": [
            "WARNING:absl:Function `_wrapped_model` contains input name(s) Input with unsupported characters which will be renamed to input in the SavedModel.\n"
          ]
        },
        {
          "output_type": "stream",
          "name": "stdout",
          "text": [
            "INFO:tensorflow:Assets written to: /saved_models/0/assets\n"
          ]
        },
        {
          "output_type": "stream",
          "name": "stderr",
          "text": [
            "INFO:tensorflow:Assets written to: /saved_models/0/assets\n"
          ]
        },
        {
          "output_type": "stream",
          "name": "stdout",
          "text": [
            "\b\b\b\b\b\b\b\b\b\b\b\b\b\b\b\b\b\b\b\b\b\b\b\b\b\b\b\b\b\b\b\b\b\b\b\b\b\b\b\b\b\b\b\b\b\b\b\b\b\b\b\b\b\b\b\b\b\b\b\b\b\b\b\b\b\b\b\b\b\b\b\b\b\b\b\b\b\b\b\b\b\b\b\b\r142/142 [==============================] - 282s 2s/step - loss: 0.2604 - accuracy: 0.9132 - val_loss: 0.3449 - val_accuracy: 0.8974\n",
            "Epoch 10/20\n",
            "142/142 [==============================] - ETA: 0s - loss: 0.2348 - accuracy: 0.9237\n",
            "Epoch 00010: val_accuracy did not improve from 0.89743\n",
            "142/142 [==============================] - 283s 2s/step - loss: 0.2348 - accuracy: 0.9237 - val_loss: 0.3839 - val_accuracy: 0.8918\n",
            "Epoch 11/20\n",
            "142/142 [==============================] - ETA: 0s - loss: 0.2084 - accuracy: 0.9333\n",
            "Epoch 00011: val_accuracy did not improve from 0.89743\n",
            "142/142 [==============================] - 273s 2s/step - loss: 0.2084 - accuracy: 0.9333 - val_loss: 0.4324 - val_accuracy: 0.8830\n",
            "Epoch 12/20\n",
            "142/142 [==============================] - ETA: 0s - loss: 0.1964 - accuracy: 0.9357\n",
            "Epoch 00012: val_accuracy improved from 0.89743 to 0.89771, saving model to /saved_models/0\n"
          ]
        },
        {
          "output_type": "stream",
          "name": "stderr",
          "text": [
            "WARNING:absl:Function `_wrapped_model` contains input name(s) Input with unsupported characters which will be renamed to input in the SavedModel.\n"
          ]
        },
        {
          "output_type": "stream",
          "name": "stdout",
          "text": [
            "INFO:tensorflow:Assets written to: /saved_models/0/assets\n"
          ]
        },
        {
          "output_type": "stream",
          "name": "stderr",
          "text": [
            "INFO:tensorflow:Assets written to: /saved_models/0/assets\n"
          ]
        },
        {
          "output_type": "stream",
          "name": "stdout",
          "text": [
            "\b\b\b\b\b\b\b\b\b\b\b\b\b\b\b\b\b\b\b\b\b\b\b\b\b\b\b\b\b\b\b\b\b\b\b\b\b\b\b\b\b\b\b\b\b\b\b\b\b\b\b\b\b\b\b\b\b\b\b\b\b\b\b\b\b\b\b\b\b\b\b\b\b\b\b\b\b\b\b\b\b\b\b\b\r142/142 [==============================] - 280s 2s/step - loss: 0.1964 - accuracy: 0.9357 - val_loss: 0.3404 - val_accuracy: 0.8977\n",
            "Epoch 13/20\n",
            "142/142 [==============================] - ETA: 0s - loss: 0.1810 - accuracy: 0.9398\n",
            "Epoch 00013: val_accuracy did not improve from 0.89771\n",
            "142/142 [==============================] - 279s 2s/step - loss: 0.1810 - accuracy: 0.9398 - val_loss: 0.4011 - val_accuracy: 0.8887\n",
            "Epoch 14/20\n",
            "142/142 [==============================] - ETA: 0s - loss: 0.1797 - accuracy: 0.9423\n",
            "Epoch 00014: val_accuracy improved from 0.89771 to 0.90251, saving model to /saved_models/0\n"
          ]
        },
        {
          "output_type": "stream",
          "name": "stderr",
          "text": [
            "WARNING:absl:Function `_wrapped_model` contains input name(s) Input with unsupported characters which will be renamed to input in the SavedModel.\n"
          ]
        },
        {
          "output_type": "stream",
          "name": "stdout",
          "text": [
            "INFO:tensorflow:Assets written to: /saved_models/0/assets\n"
          ]
        },
        {
          "output_type": "stream",
          "name": "stderr",
          "text": [
            "INFO:tensorflow:Assets written to: /saved_models/0/assets\n"
          ]
        },
        {
          "output_type": "stream",
          "name": "stdout",
          "text": [
            "\b\b\b\b\b\b\b\b\b\b\b\b\b\b\b\b\b\b\b\b\b\b\b\b\b\b\b\b\b\b\b\b\b\b\b\b\b\b\b\b\b\b\b\b\b\b\b\b\b\b\b\b\b\b\b\b\b\b\b\b\b\b\b\b\b\b\b\b\b\b\b\b\b\b\b\b\b\b\b\b\b\b\b\b\r142/142 [==============================] - 277s 2s/step - loss: 0.1797 - accuracy: 0.9423 - val_loss: 0.3236 - val_accuracy: 0.9025\n",
            "Epoch 15/20\n",
            "142/142 [==============================] - ETA: 0s - loss: 0.1535 - accuracy: 0.9478\n",
            "Epoch 00015: val_accuracy improved from 0.90251 to 0.92399, saving model to /saved_models/0\n"
          ]
        },
        {
          "output_type": "stream",
          "name": "stderr",
          "text": [
            "WARNING:absl:Function `_wrapped_model` contains input name(s) Input with unsupported characters which will be renamed to input in the SavedModel.\n"
          ]
        },
        {
          "output_type": "stream",
          "name": "stdout",
          "text": [
            "INFO:tensorflow:Assets written to: /saved_models/0/assets\n"
          ]
        },
        {
          "output_type": "stream",
          "name": "stderr",
          "text": [
            "INFO:tensorflow:Assets written to: /saved_models/0/assets\n"
          ]
        },
        {
          "output_type": "stream",
          "name": "stdout",
          "text": [
            "\b\b\b\b\b\b\b\b\b\b\b\b\b\b\b\b\b\b\b\b\b\b\b\b\b\b\b\b\b\b\b\b\b\b\b\b\b\b\b\b\b\b\b\b\b\b\b\b\b\b\b\b\b\b\b\b\b\b\b\b\b\b\b\b\b\b\b\b\b\b\b\b\b\b\b\b\b\b\b\b\b\b\b\b\r142/142 [==============================] - 279s 2s/step - loss: 0.1535 - accuracy: 0.9478 - val_loss: 0.2393 - val_accuracy: 0.9240\n",
            "Epoch 16/20\n",
            "142/142 [==============================] - ETA: 0s - loss: 0.1463 - accuracy: 0.9550\n",
            "Epoch 00016: val_accuracy did not improve from 0.92399\n",
            "142/142 [==============================] - 281s 2s/step - loss: 0.1463 - accuracy: 0.9550 - val_loss: 0.3036 - val_accuracy: 0.9101\n",
            "Epoch 17/20\n",
            "142/142 [==============================] - ETA: 0s - loss: 0.1399 - accuracy: 0.9531\n",
            "Epoch 00017: val_accuracy did not improve from 0.92399\n",
            "142/142 [==============================] - 273s 2s/step - loss: 0.1399 - accuracy: 0.9531 - val_loss: 0.3066 - val_accuracy: 0.9127\n",
            "Epoch 18/20\n",
            "142/142 [==============================] - ETA: 0s - loss: 0.1196 - accuracy: 0.9579\n",
            "Epoch 00018: val_accuracy did not improve from 0.92399\n",
            "142/142 [==============================] - 274s 2s/step - loss: 0.1196 - accuracy: 0.9579 - val_loss: 0.2928 - val_accuracy: 0.9152\n",
            "Epoch 19/20\n",
            "142/142 [==============================] - ETA: 0s - loss: 0.1302 - accuracy: 0.9560\n",
            "Epoch 00019: val_accuracy did not improve from 0.92399\n",
            "142/142 [==============================] - 277s 2s/step - loss: 0.1302 - accuracy: 0.9560 - val_loss: 0.3445 - val_accuracy: 0.9039\n",
            "Epoch 20/20\n",
            "142/142 [==============================] - ETA: 0s - loss: 0.1116 - accuracy: 0.9610\n",
            "Epoch 00020: val_accuracy did not improve from 0.92399\n",
            "142/142 [==============================] - 270s 2s/step - loss: 0.1116 - accuracy: 0.9610 - val_loss: 0.2626 - val_accuracy: 0.9240\n"
          ]
        },
        {
          "output_type": "error",
          "ename": "OSError",
          "evalue": "ignored",
          "traceback": [
            "\u001b[0;31m---------------------------------------------------------------------------\u001b[0m",
            "\u001b[0;31mOSError\u001b[0m                                   Traceback (most recent call last)",
            "\u001b[0;32m<ipython-input-8-9ddea13c50be>\u001b[0m in \u001b[0;36m<module>\u001b[0;34m()\u001b[0m\n\u001b[1;32m     49\u001b[0m \u001b[0;34m\u001b[0m\u001b[0m\n\u001b[1;32m     50\u001b[0m         \u001b[0;31m# LOAD BEST MODEL to evaluate the performance of the model\u001b[0m\u001b[0;34m\u001b[0m\u001b[0;34m\u001b[0m\u001b[0;34m\u001b[0m\u001b[0m\n\u001b[0;32m---> 51\u001b[0;31m   \u001b[0mmodel\u001b[0m\u001b[0;34m.\u001b[0m\u001b[0mload_weights\u001b[0m\u001b[0;34m(\u001b[0m\u001b[0;34m\"/saved_models/model_\"\u001b[0m\u001b[0;34m+\u001b[0m\u001b[0mstr\u001b[0m\u001b[0;34m(\u001b[0m\u001b[0mfold_var\u001b[0m\u001b[0;34m)\u001b[0m\u001b[0;34m+\u001b[0m\u001b[0;34m\".h5\"\u001b[0m\u001b[0;34m)\u001b[0m\u001b[0;34m\u001b[0m\u001b[0;34m\u001b[0m\u001b[0m\n\u001b[0m\u001b[1;32m     52\u001b[0m \u001b[0;34m\u001b[0m\u001b[0m\n\u001b[1;32m     53\u001b[0m   \u001b[0mresults\u001b[0m \u001b[0;34m=\u001b[0m \u001b[0mmodel\u001b[0m\u001b[0;34m.\u001b[0m\u001b[0mevaluate\u001b[0m\u001b[0;34m(\u001b[0m\u001b[0mvalid_data_generator\u001b[0m\u001b[0;34m)\u001b[0m\u001b[0;34m\u001b[0m\u001b[0;34m\u001b[0m\u001b[0m\n",
            "\u001b[0;32m/usr/local/lib/python3.7/dist-packages/keras/utils/traceback_utils.py\u001b[0m in \u001b[0;36merror_handler\u001b[0;34m(*args, **kwargs)\u001b[0m\n\u001b[1;32m     65\u001b[0m     \u001b[0;32mexcept\u001b[0m \u001b[0mException\u001b[0m \u001b[0;32mas\u001b[0m \u001b[0me\u001b[0m\u001b[0;34m:\u001b[0m  \u001b[0;31m# pylint: disable=broad-except\u001b[0m\u001b[0;34m\u001b[0m\u001b[0;34m\u001b[0m\u001b[0m\n\u001b[1;32m     66\u001b[0m       \u001b[0mfiltered_tb\u001b[0m \u001b[0;34m=\u001b[0m \u001b[0m_process_traceback_frames\u001b[0m\u001b[0;34m(\u001b[0m\u001b[0me\u001b[0m\u001b[0;34m.\u001b[0m\u001b[0m__traceback__\u001b[0m\u001b[0;34m)\u001b[0m\u001b[0;34m\u001b[0m\u001b[0;34m\u001b[0m\u001b[0m\n\u001b[0;32m---> 67\u001b[0;31m       \u001b[0;32mraise\u001b[0m \u001b[0me\u001b[0m\u001b[0;34m.\u001b[0m\u001b[0mwith_traceback\u001b[0m\u001b[0;34m(\u001b[0m\u001b[0mfiltered_tb\u001b[0m\u001b[0;34m)\u001b[0m \u001b[0;32mfrom\u001b[0m \u001b[0;32mNone\u001b[0m\u001b[0;34m\u001b[0m\u001b[0;34m\u001b[0m\u001b[0m\n\u001b[0m\u001b[1;32m     68\u001b[0m     \u001b[0;32mfinally\u001b[0m\u001b[0;34m:\u001b[0m\u001b[0;34m\u001b[0m\u001b[0;34m\u001b[0m\u001b[0m\n\u001b[1;32m     69\u001b[0m       \u001b[0;32mdel\u001b[0m \u001b[0mfiltered_tb\u001b[0m\u001b[0;34m\u001b[0m\u001b[0;34m\u001b[0m\u001b[0m\n",
            "\u001b[0;32m/usr/local/lib/python3.7/dist-packages/h5py/_hl/files.py\u001b[0m in \u001b[0;36m__init__\u001b[0;34m(self, name, mode, driver, libver, userblock_size, swmr, rdcc_nslots, rdcc_nbytes, rdcc_w0, track_order, fs_strategy, fs_persist, fs_threshold, **kwds)\u001b[0m\n\u001b[1;32m    425\u001b[0m                                fapl, fcpl=make_fcpl(track_order=track_order, fs_strategy=fs_strategy,\n\u001b[1;32m    426\u001b[0m                                fs_persist=fs_persist, fs_threshold=fs_threshold),\n\u001b[0;32m--> 427\u001b[0;31m                                swmr=swmr)\n\u001b[0m\u001b[1;32m    428\u001b[0m \u001b[0;34m\u001b[0m\u001b[0m\n\u001b[1;32m    429\u001b[0m             \u001b[0;32mif\u001b[0m \u001b[0misinstance\u001b[0m\u001b[0;34m(\u001b[0m\u001b[0mlibver\u001b[0m\u001b[0;34m,\u001b[0m \u001b[0mtuple\u001b[0m\u001b[0;34m)\u001b[0m\u001b[0;34m:\u001b[0m\u001b[0;34m\u001b[0m\u001b[0;34m\u001b[0m\u001b[0m\n",
            "\u001b[0;32m/usr/local/lib/python3.7/dist-packages/h5py/_hl/files.py\u001b[0m in \u001b[0;36mmake_fid\u001b[0;34m(name, mode, userblock_size, fapl, fcpl, swmr)\u001b[0m\n\u001b[1;32m    188\u001b[0m         \u001b[0;32mif\u001b[0m \u001b[0mswmr\u001b[0m \u001b[0;32mand\u001b[0m \u001b[0mswmr_support\u001b[0m\u001b[0;34m:\u001b[0m\u001b[0;34m\u001b[0m\u001b[0;34m\u001b[0m\u001b[0m\n\u001b[1;32m    189\u001b[0m             \u001b[0mflags\u001b[0m \u001b[0;34m|=\u001b[0m \u001b[0mh5f\u001b[0m\u001b[0;34m.\u001b[0m\u001b[0mACC_SWMR_READ\u001b[0m\u001b[0;34m\u001b[0m\u001b[0;34m\u001b[0m\u001b[0m\n\u001b[0;32m--> 190\u001b[0;31m         \u001b[0mfid\u001b[0m \u001b[0;34m=\u001b[0m \u001b[0mh5f\u001b[0m\u001b[0;34m.\u001b[0m\u001b[0mopen\u001b[0m\u001b[0;34m(\u001b[0m\u001b[0mname\u001b[0m\u001b[0;34m,\u001b[0m \u001b[0mflags\u001b[0m\u001b[0;34m,\u001b[0m \u001b[0mfapl\u001b[0m\u001b[0;34m=\u001b[0m\u001b[0mfapl\u001b[0m\u001b[0;34m)\u001b[0m\u001b[0;34m\u001b[0m\u001b[0;34m\u001b[0m\u001b[0m\n\u001b[0m\u001b[1;32m    191\u001b[0m     \u001b[0;32melif\u001b[0m \u001b[0mmode\u001b[0m \u001b[0;34m==\u001b[0m \u001b[0;34m'r+'\u001b[0m\u001b[0;34m:\u001b[0m\u001b[0;34m\u001b[0m\u001b[0;34m\u001b[0m\u001b[0m\n\u001b[1;32m    192\u001b[0m         \u001b[0mfid\u001b[0m \u001b[0;34m=\u001b[0m \u001b[0mh5f\u001b[0m\u001b[0;34m.\u001b[0m\u001b[0mopen\u001b[0m\u001b[0;34m(\u001b[0m\u001b[0mname\u001b[0m\u001b[0;34m,\u001b[0m \u001b[0mh5f\u001b[0m\u001b[0;34m.\u001b[0m\u001b[0mACC_RDWR\u001b[0m\u001b[0;34m,\u001b[0m \u001b[0mfapl\u001b[0m\u001b[0;34m=\u001b[0m\u001b[0mfapl\u001b[0m\u001b[0;34m)\u001b[0m\u001b[0;34m\u001b[0m\u001b[0;34m\u001b[0m\u001b[0m\n",
            "\u001b[0;32mh5py/_objects.pyx\u001b[0m in \u001b[0;36mh5py._objects.with_phil.wrapper\u001b[0;34m()\u001b[0m\n",
            "\u001b[0;32mh5py/_objects.pyx\u001b[0m in \u001b[0;36mh5py._objects.with_phil.wrapper\u001b[0;34m()\u001b[0m\n",
            "\u001b[0;32mh5py/h5f.pyx\u001b[0m in \u001b[0;36mh5py.h5f.open\u001b[0;34m()\u001b[0m\n",
            "\u001b[0;31mOSError\u001b[0m: Unable to open file (unable to open file: name = '/saved_models/model_1.h5', errno = 2, error message = 'No such file or directory', flags = 0, o_flags = 0)"
          ]
        }
      ]
    },
    {
      "cell_type": "code",
      "metadata": {
        "id": "pyJ2J0Nw1HDw"
      },
      "source": [
        "from google.colab import drive\n",
        "drive.mount('/content/drive')"
      ],
      "execution_count": null,
      "outputs": []
    }
  ]
}